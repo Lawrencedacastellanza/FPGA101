{
 "cells": [
  {
   "cell_type": "code",
   "execution_count": 2,
   "id": "9bb6189d",
   "metadata": {},
   "outputs": [],
   "source": [
    "#import pynq libraries\n",
    "from pynq import Overlay\n",
    "from pynq import allocate\n",
    "import math\n",
    "import time\n",
    "import numpy as np"
   ]
  },
  {
   "cell_type": "code",
   "execution_count": 3,
   "id": "b4ddd579",
   "metadata": {},
   "outputs": [],
   "source": [
    "#show documentation\n",
    "#testmem_ip?"
   ]
  },
  {
   "cell_type": "code",
   "execution_count": 4,
   "id": "8a5e1aea",
   "metadata": {},
   "outputs": [],
   "source": [
    "#show testmem ip register maps\n",
    "#testmem_ip.register_map"
   ]
  },
  {
   "cell_type": "code",
   "execution_count": 15,
   "id": "7d16e38f",
   "metadata": {},
   "outputs": [
    {
     "name": "stdout",
     "output_type": "stream",
     "text": [
      "2500000\n",
      "1250000\n",
      "625000\n"
     ]
    }
   ],
   "source": [
    "Mbyte=20\n",
    "for n in range(3):\n",
    "    #kernel function's IP made for write from the FPGA\n",
    "    if n==0:\n",
    "        overlay =Overlay(\"./design_64_wrapper.xsa\")\n",
    "        testmem_ip=overlay.kernel_0\n",
    "        datatype=64\n",
    "        w_time_64= np.zeros(20)\n",
    "    if n==1:\n",
    "        overlay =Overlay(\"./design_1_128_wrapper.xsa\")\n",
    "        testmem_ip=overlay.kernel_0\n",
    "        datatype=128\n",
    "        w_time_128=np.zeros(20)\n",
    "    if n==2:\n",
    "        overlay =Overlay(\"./design_1_256_wrapper.xsa\")\n",
    "        testmem_ip=overlay.kernel_0\n",
    "        datatype=256\n",
    "        w_time_256=np.zeros(20)\n",
    "    \n",
    "    #inizialize data\n",
    "    max_data=int((Mbyte*1000*1000*8)/datatype)\n",
    "    #FPGA\n",
    "    data= np.zeros(int(max_data*datatype/64))\n",
    "    #data buffer creation for FPGA\n",
    "    buf_data = allocate(int(max_data*datatype/64),np.uint64)\n",
    "    buf_data[:]=data[:]\n",
    "    buf_data.flush()\n",
    "    testmem_ip.write(0x10,buf_data.physical_address)\n",
    "    \n",
    "    #kernel function attivation and time calculation\n",
    "    \n",
    "    #decide Mbyte intervals \n",
    "    sud=int(Mbyte/20)\n",
    "    data_n=int((sud*1000*1000*8)/datatype)\n",
    "    #starting write time calculation\n",
    "    \n",
    "    for p in range(20):\n",
    "        p=1+p\n",
    "        #100 subtests to create an avarage time\n",
    "        w_sum_64=0\n",
    "        w_sum_128=0\n",
    "        w_sum_256=0\n",
    "        for c in range(100):\n",
    "            data_n=int((sud*1000*1000*8)/datatype) #you can choose 1024 insted of 1000 if you use other 2^n data\n",
    "            data_n=data_n*(p)\n",
    "            testmem_ip.write(0x1c,data_n)\n",
    "            testmem_ip.write(0x00,1)\n",
    "            #start counting\n",
    "            start=time.time()\n",
    "            #continue until it end \n",
    "            while testmem_ip.read(0x00)& 0x04!=0x04:\n",
    "                pass\n",
    "            #finish counting\n",
    "            stop=time.time()\n",
    "            if n==0:\n",
    "                w_sum_64=w_sum_64+(stop-start)*1000\n",
    "            if n==1:\n",
    "                w_sum_128=w_sum_128+(stop-start)*1000\n",
    "            if n==2:\n",
    "                w_sum_256=w_sum_256+(stop-start)*1000\n",
    "        if n==0:\n",
    "            w_time_64[p-1]=w_sum_64/100\n",
    "        if n==1:\n",
    "            w_time_128[p-1]=w_sum_128/100\n",
    "        if n==2:        \n",
    "            w_time_256[p-1]=w_sum_256/100\n",
    "    print(data_n)"
   ]
  },
  {
   "cell_type": "code",
   "execution_count": 31,
   "id": "5bc68667",
   "metadata": {},
   "outputs": [
    {
     "name": "stdout",
     "output_type": "stream",
     "text": [
      "[ 1.73228502  3.45255852  5.18655062  6.89007282  8.60830784 10.32785654\n",
      " 12.04707861 13.7644124  15.48511982 17.20361948 18.92184258 20.6390667\n",
      " 22.35848188 24.07720327 25.79684734 27.51544476 29.23327684 30.95252275\n",
      " 32.67133951 34.39054012]\n",
      "[ 1.57544613  3.13866377  4.70213413  6.26619101  7.82869101  9.39023256\n",
      " 10.95297575 12.57017612 14.07886505 15.64100981 17.20303535 18.76620531\n",
      " 20.32797337 21.89190149 23.45444441 25.01683235 26.58080816 28.14123631\n",
      " 29.7278285  31.26753807]\n",
      "[ 1.41936541  2.82815695  4.23460722  5.64878702  7.0476222   8.45356941\n",
      "  9.85909939 11.26732349 12.67540455 14.07867432 15.48501015 16.89722538\n",
      " 18.2972002  19.70334291 21.11042976 22.51682758 23.92241716 25.32778978\n",
      " 26.7341876  28.14126968]\n"
     ]
    }
   ],
   "source": [
    "print(w_time_64)\n",
    "print(w_time_128)\n",
    "print(w_time_256)\n"
   ]
  },
  {
   "cell_type": "code",
   "execution_count": 51,
   "id": "110a90c0",
   "metadata": {},
   "outputs": [
    {
     "name": "stdout",
     "output_type": "stream",
     "text": [
      "15\n",
      "7\n",
      "3\n"
     ]
    }
   ],
   "source": [
    "bit=1000\n",
    "for n in range(3):\n",
    "    #kernel function's IP made for write from the FPGA\n",
    "    if n==0:\n",
    "        overlay =Overlay(\"./design_64_wrapper.xsa\")\n",
    "        testmem_ip=overlay.kernel_0\n",
    "        datatype=64\n",
    "        w_time1_64= np.zeros(20)\n",
    "    if n==1:\n",
    "        overlay =Overlay(\"./design_1_128_wrapper.xsa\")\n",
    "        testmem_ip=overlay.kernel_0\n",
    "        datatype=128\n",
    "        w_time1_128=np.zeros(20)\n",
    "    if n==2:\n",
    "        overlay =Overlay(\"./design_1_256_wrapper.xsa\")\n",
    "        testmem_ip=overlay.kernel_0\n",
    "        datatype=256\n",
    "        w_time1_256=np.zeros(20)\n",
    "    \n",
    "    #inizialize data\n",
    "    max_data=int(bit/datatype)\n",
    "    #FPGA\n",
    "    data= np.zeros(int(max_data*datatype/64))\n",
    "    #data buffer creation for FPGA\n",
    "    buf_data = allocate(int(max_data*datatype/64),np.uint64)\n",
    "    buf_data[:]=data[:]\n",
    "    buf_data.flush()\n",
    "    testmem_ip.write(0x10,buf_data.physical_address)\n",
    "    \n",
    "    #kernel function attivation and time calculation\n",
    "    \n",
    "    data_n=int(bit/datatype)\n",
    "    #starting write time calculation\n",
    "    \n",
    "    #100 subtests to create an avarage time\n",
    "    w_sum_64=0\n",
    "    w_sum_128=0\n",
    "    w_sum_256=0\n",
    "    for c in range(1000):\n",
    "        data_n=int(bit/datatype)\n",
    "        testmem_ip.write(0x1c,data_n)\n",
    "        testmem_ip.write(0x00,1)\n",
    "        #start counting\n",
    "        start=time.time()\n",
    "        #continue until it end \n",
    "        while testmem_ip.read(0x00)& 0x04!=0x04:\n",
    "            pass\n",
    "        #finish counting\n",
    "        stop=time.time()\n",
    "        if n==0:\n",
    "            w_sum_64=w_sum_64+(stop-start)*1000\n",
    "        if n==1:\n",
    "            w_sum_128=w_sum_128+(stop-start)*1000\n",
    "        if n==2:\n",
    "            w_sum_256=w_sum_256+(stop-start)*1000\n",
    "    if n==0:\n",
    "        w_time1_64=w_sum_64/1000\n",
    "    if n==1:\n",
    "        w_time1_128=w_sum_128/1000\n",
    "    if n==2:        \n",
    "         w_time1_256=w_sum_256/1000\n",
    "    print(data_n)"
   ]
  },
  {
   "cell_type": "code",
   "execution_count": 52,
   "id": "4cf7843e",
   "metadata": {
    "scrolled": false
   },
   "outputs": [
    {
     "name": "stdout",
     "output_type": "stream",
     "text": [
      "0.027930498123168945\n",
      "0.0276334285736084\n",
      "0.028670310974121094\n"
     ]
    }
   ],
   "source": [
    "print( w_time1_64)\n",
    "print(w_time1_128)\n",
    "print( w_time1_256)"
   ]
  },
  {
   "cell_type": "code",
   "execution_count": null,
   "id": "8df57dfd",
   "metadata": {},
   "outputs": [],
   "source": []
  }
 ],
 "metadata": {
  "kernelspec": {
   "display_name": "Python 3 (ipykernel)",
   "language": "python",
   "name": "python3"
  },
  "language_info": {
   "codemirror_mode": {
    "name": "ipython",
    "version": 3
   },
   "file_extension": ".py",
   "mimetype": "text/x-python",
   "name": "python",
   "nbconvert_exporter": "python",
   "pygments_lexer": "ipython3",
   "version": "3.10.4"
  }
 },
 "nbformat": 4,
 "nbformat_minor": 5
}
