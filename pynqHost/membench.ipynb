{
 "cells": [
  {
   "cell_type": "code",
   "execution_count": 1,
   "id": "9bb6189d",
   "metadata": {},
   "outputs": [],
   "source": [
    "#import pynq libraries\n",
    "from pynq import Overlay\n",
    "from pynq import allocate\n",
    "#import matplotlib.pyplot as plt\n",
    "import math\n",
    "import time\n",
    "import numpy as np"
   ]
  },
  {
   "cell_type": "code",
   "execution_count": 3,
   "id": "b4ddd579",
   "metadata": {},
   "outputs": [],
   "source": [
    "#show documentation\n",
    "#testmem_ip?"
   ]
  },
  {
   "cell_type": "code",
   "execution_count": 4,
   "id": "8a5e1aea",
   "metadata": {},
   "outputs": [],
   "source": [
    "#show testmem ip register maps\n",
    "#testmem_ip.register_map"
   ]
  },
  {
   "cell_type": "code",
   "execution_count": 5,
   "id": "6394582b",
   "metadata": {},
   "outputs": [
    {
     "data": {
      "application/javascript": [
       "\n",
       "try {\n",
       "require(['notebook/js/codecell'], function(codecell) {\n",
       "  codecell.CodeCell.options_default.highlight_modes[\n",
       "      'magic_text/x-csrc'] = {'reg':[/^%%microblaze/]};\n",
       "  Jupyter.notebook.events.one('kernel_ready.Kernel', function(){\n",
       "      Jupyter.notebook.get_cells().map(function(cell){\n",
       "          if (cell.cell_type == 'code'){ cell.auto_highlight(); } }) ;\n",
       "  });\n",
       "});\n",
       "} catch (e) {};\n"
      ]
     },
     "metadata": {},
     "output_type": "display_data"
    },
    {
     "data": {
      "application/javascript": [
       "\n",
       "try {\n",
       "require(['notebook/js/codecell'], function(codecell) {\n",
       "  codecell.CodeCell.options_default.highlight_modes[\n",
       "      'magic_text/x-csrc'] = {'reg':[/^%%pybind11/]};\n",
       "  Jupyter.notebook.events.one('kernel_ready.Kernel', function(){\n",
       "      Jupyter.notebook.get_cells().map(function(cell){\n",
       "          if (cell.cell_type == 'code'){ cell.auto_highlight(); } }) ;\n",
       "  });\n",
       "});\n",
       "} catch (e) {};\n"
      ]
     },
     "metadata": {},
     "output_type": "display_data"
    },
    {
     "name": "stdout",
     "output_type": "stream",
     "text": [
      "2621440\n"
     ]
    }
   ],
   "source": [
    "Mbyte=20\n",
    "\n",
    "overlay =Overlay(\"./design_64_wrapper.xsa\")\n",
    "testmem_ip=overlay.kernel_0\n",
    "datatype=64\n",
    "#show documentation\n",
    "#testmem_ip?\n",
    "#show testmem ip register maps\n",
    "#testmem_ip.register_map\n",
    "\n",
    "#inizialize data\n",
    "max_data=int((Mbyte*1024*1024*8)/datatype)\n",
    "#FPGA\n",
    "data= np.zeros((max_data))\n",
    "#data buffer creation for FPGA\n",
    "buf_data = allocate(max_data,np.uint64)\n",
    "buf_data[:]=data[:]\n",
    "buf_data.flush()\n",
    "testmem_ip.write(0x10,buf_data.physical_address)\n",
    "\n",
    "#kernel function attivation and time calculation\n",
    "w_time_64= np.zeros(20)\n",
    "#decide Mbyte intervals \n",
    "sud=int(Mbyte/20)\n",
    "data_n=int((sud*1024*1024*8)/datatype)\n",
    "#starting write time calculation\n",
    "p=1\n",
    "while p<=20:\n",
    "    #100 subtests to create an avarage time\n",
    "    c=0\n",
    "    w_sum_64=0\n",
    "    while c<100:\n",
    "        data_n=int((sud*1024*1024*8)/datatype)\n",
    "        data_n=data_n*(p)\n",
    "        testmem_ip.write(0x1c,data_n)\n",
    "        testmem_ip.write(0x00,1)\n",
    "        #start counting\n",
    "        start=time.time()\n",
    "        #continue until it end \n",
    "        while testmem_ip.read(0x00)& 0x04!=0x04:\n",
    "            pass\n",
    "        #finish counting\n",
    "        stop=time.time()\n",
    "        w_sum_64=w_sum_64+(stop-start)*1000\n",
    "        c=c+1\n",
    "    w_time_64[p-1]=w_sum_64/100\n",
    "    p=p+1\n",
    "print(data_n)"
   ]
  },
  {
   "cell_type": "code",
   "execution_count": 6,
   "id": "3d1eb081",
   "metadata": {},
   "outputs": [
    {
     "name": "stdout",
     "output_type": "stream",
     "text": [
      "[ 1.81659222  3.61887932  5.42091608  7.24513292  9.02611017 10.82888365\n",
      " 12.63078928 14.43214417 16.23469591 18.0366993  19.83901024 21.64115667\n",
      " 23.44431639 25.24610043 27.04963207 28.85080576 30.65317631 32.45563745\n",
      " 34.25671816 36.05928898]\n"
     ]
    }
   ],
   "source": [
    "print(w_time_64)"
   ]
  },
  {
   "cell_type": "code",
   "execution_count": null,
   "id": "7d16e38f",
   "metadata": {},
   "outputs": [
    {
     "name": "stdout",
     "output_type": "stream",
     "text": [
      "2621440\n"
     ]
    }
   ],
   "source": [
    "Mbyte=20\n",
    "for n in range(2):\n",
    "    #kernel function's IP made for write from the FPGA\n",
    "    if n==0:\n",
    "        overlay =Overlay(\"./design_64_wrapper.xsa\")\n",
    "        testmem_ip=overlay.kernel_0\n",
    "        datatype=64\n",
    "    if n==1:\n",
    "        overlay =Overlay(\"./design_1_128_wrapper.xsa\")\n",
    "        testmem_ip=overlay.kernel_0\n",
    "        datatype=128\n",
    "    if n==2:\n",
    "        overlay =Overlay(\"./design_1_256_wrapper.xsa\")\n",
    "        testmem_ip=overlay.kernel_0\n",
    "        datatype=256\n",
    "    \n",
    "    #inizialize data\n",
    "    max_data=int((Mbyte*1024*1024*8)/datatype)\n",
    "    #FPGA\n",
    "    data= np.zeros((max_data))\n",
    "    #data buffer creation for FPGA\n",
    "    buf_data = allocate(max_data,np.uint64)\n",
    "    buf_data[:]=data[:]\n",
    "    buf_data.flush()\n",
    "    testmem_ip.write(0x10,buf_data.physical_address)\n",
    "    \n",
    "    #kernel function attivation and time calculation\n",
    "    w_time_64= np.zeros(20)\n",
    "    w_time_128=np.zeros(20)\n",
    "    w_time_256=np.zeros(20)\n",
    "    #decide Mbyte intervals \n",
    "    sud=int(Mbyte/20)\n",
    "    data_n=int((sud*1024*1024*8)/datatype)\n",
    "    #starting write time calculation\n",
    "    p=1\n",
    "    while p<=20:\n",
    "        #100 subtests to create an avarage time\n",
    "        c=0\n",
    "        w_sum_64=0\n",
    "        w_sum_128=0\n",
    "        w_sum_256=0\n",
    "        while c<100:\n",
    "            data_n=int((sud*1024*1024*8)/datatype)\n",
    "            data_n=data_n*(p)\n",
    "            testmem_ip.write(0x1c,data_n)\n",
    "            testmem_ip.write(0x00,1)\n",
    "            #start counting\n",
    "            start=time.time()\n",
    "            #continue until it end \n",
    "            while testmem_ip.read(0x00)& 0x04!=0x04:\n",
    "                pass\n",
    "            #finish counting\n",
    "            stop=time.time()\n",
    "            if n==0:\n",
    "                w_sum_64=w_sum_64+(stop-start)*1000\n",
    "            if n==1:\n",
    "                w_sum_128=w_sum_128+(stop-start)*1000\n",
    "            if n==2:\n",
    "                w_sum_256=w_sum_256+(stop-start)*1000\n",
    "            c=c+1\n",
    "        if n==0:\n",
    "            w_time_64[p-1]=w_sum_64/100\n",
    "        if n==1:\n",
    "            w_time_128[p-1]=w_sum_128/100\n",
    "        if n==2:        \n",
    "            w_time_256[p-1]=w_sum_256/100\n",
    "        p=p+1\n",
    "    print(data_n)"
   ]
  },
  {
   "cell_type": "code",
   "execution_count": 9,
   "id": "5bc68667",
   "metadata": {},
   "outputs": [
    {
     "name": "stdout",
     "output_type": "stream",
     "text": [
      "[0. 0. 0. 0. 0. 0. 0. 0. 0. 0. 0. 0. 0. 0. 0. 0. 0. 0. 0. 0.]\n",
      "[0. 0. 0. 0. 0. 0. 0. 0. 0. 0. 0. 0. 0. 0. 0. 0. 0. 0. 0. 0.]\n",
      "[ 1.52101755  2.96378851  4.43900824  5.91397285  7.38945484  8.87286425\n",
      " 10.33741713 11.81376219 13.28603983 14.76175547 16.23687983 17.71109104\n",
      " 19.18617487 20.66010237 22.13450432 23.60899925 25.08298635 26.55930042\n",
      " 28.03374052 29.50743914]\n"
     ]
    }
   ],
   "source": [
    "print(w_time_64)\n",
    "print(w_time_128)\n",
    "print(w_time_256)\n"
   ]
  },
  {
   "cell_type": "code",
   "execution_count": null,
   "id": "78470ef0",
   "metadata": {},
   "outputs": [],
   "source": []
  }
 ],
 "metadata": {
  "kernelspec": {
   "display_name": "Python 3 (ipykernel)",
   "language": "python",
   "name": "python3"
  },
  "language_info": {
   "codemirror_mode": {
    "name": "ipython",
    "version": 3
   },
   "file_extension": ".py",
   "mimetype": "text/x-python",
   "name": "python",
   "nbconvert_exporter": "python",
   "pygments_lexer": "ipython3",
   "version": "3.10.4"
  }
 },
 "nbformat": 4,
 "nbformat_minor": 5
}
