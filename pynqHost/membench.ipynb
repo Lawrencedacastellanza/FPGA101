{
 "cells": [
  {
   "cell_type": "code",
   "execution_count": 10,
   "id": "9bb6189d",
   "metadata": {},
   "outputs": [],
   "source": [
    "#import pynq libraries\n",
    "from pynq import Overlay\n",
    "from pynq import allocate\n",
    "import math\n",
    "import time\n",
    "import numpy as np"
   ]
  },
  {
   "cell_type": "code",
   "execution_count": 11,
   "id": "b4ddd579",
   "metadata": {},
   "outputs": [],
   "source": [
    "#show documentation\n",
    "#testmem_ip?"
   ]
  },
  {
   "cell_type": "code",
   "execution_count": 12,
   "id": "8a5e1aea",
   "metadata": {},
   "outputs": [],
   "source": [
    "#show testmem ip register maps\n",
    "#testmem_ip.register_map"
   ]
  },
  {
   "cell_type": "code",
   "execution_count": 8,
   "id": "7d16e38f",
   "metadata": {},
   "outputs": [
    {
     "name": "stdout",
     "output_type": "stream",
     "text": [
      "2500000\n",
      "1250000\n",
      "625000\n"
     ]
    }
   ],
   "source": [
    "Mbyte=80\n",
    "for n in range(3):\n",
    "    #kernel function's IP made for write from the FPGA\n",
    "    if n==0:\n",
    "        overlay =Overlay(\"./design_64_wrapper.xsa\")\n",
    "        testmem_ip=overlay.kernel_0\n",
    "        datatype=64\n",
    "        w_time_64= np.zeros(20)\n",
    "    if n==1:\n",
    "        overlay =Overlay(\"./design_1_128_wrapper.xsa\")\n",
    "        testmem_ip=overlay.kernel_0\n",
    "        datatype=128\n",
    "        w_time_128=np.zeros(20)\n",
    "    if n==2:\n",
    "        overlay =Overlay(\"./design_1_256_wrapper.xsa\")\n",
    "        testmem_ip=overlay.kernel_0\n",
    "        datatype=256\n",
    "        w_time_256=np.zeros(20)\n",
    "    \n",
    "    #inizialize data\n",
    "    max_data=int((Mbyte*1000*1000*8)/datatype)\n",
    "    #FPGA\n",
    "    data= np.zeros(int(max_data*datatype/64))\n",
    "    #data buffer creation for FPGA\n",
    "    buf_data = allocate(int(max_data*datatype/64),np.uint64)\n",
    "    buf_data[:]=data[:]\n",
    "    buf_data.flush()\n",
    "    testmem_ip.write(0x10,buf_data.physical_address)\n",
    "    \n",
    "    #kernel function attivation and time calculation\n",
    "    \n",
    "    #decide Mbyte intervals \n",
    "    sud=int(Mbyte/20)\n",
    "    data_n=int((sud*1000*1000*8)/datatype)\n",
    "    #starting write time calculation\n",
    "    \n",
    "    for p in range(20):\n",
    "        p=1+p\n",
    "        #100 subtests to create an avarage time\n",
    "        w_sum_64=0\n",
    "        w_sum_128=0\n",
    "        w_sum_256=0\n",
    "        for c in range(100):\n",
    "            data_n=int((sud*1000*1000*8)/datatype) #you can choose 1024 insted of 1000 if you use other 2^n data\n",
    "            data_n=data_n*(p)\n",
    "            testmem_ip.write(0x1c,data_n)\n",
    "            #start counting\n",
    "            start=time.time()\n",
    "            testmem_ip.write(0x00,1)\n",
    "            #continue until it end \n",
    "            while testmem_ip.read(0x00)& 0x04!=0x04:\n",
    "                pass\n",
    "            #finish counting\n",
    "            stop=time.time()\n",
    "            if n==0:\n",
    "                w_sum_64=w_sum_64+(stop-start)*1000\n",
    "            if n==1:\n",
    "                w_sum_128=w_sum_128+(stop-start)*1000\n",
    "            if n==2:\n",
    "                w_sum_256=w_sum_256+(stop-start)*1000\n",
    "        if n==0:\n",
    "            w_time_64[p-1]=w_sum_64/100\n",
    "        if n==1:\n",
    "            w_time_128[p-1]=w_sum_128/100\n",
    "        if n==2:        \n",
    "            w_time_256[p-1]=w_sum_256/100\n",
    "    print(data_n)"
   ]
  },
  {
   "cell_type": "code",
   "execution_count": 9,
   "id": "5bc68667",
   "metadata": {},
   "outputs": [
    {
     "name": "stdout",
     "output_type": "stream",
     "text": [
      "[ 1.76483154  3.48545551  5.1997757   6.91797972  8.66033077 10.35890579\n",
      " 12.07705021 13.79727602 15.51539421 17.23400116 18.9522028  20.67245245\n",
      " 22.39195108 24.10716057 25.8262825  27.54600286 29.26305294 30.98481655\n",
      " 32.7017045  34.42055225]\n",
      "[ 1.60470009  3.1717205   4.73301888  6.2973547   7.85952806  9.42122698\n",
      " 10.98455667 12.54624367 14.10959721 15.67186117 17.23342419 18.79833937\n",
      " 20.35939455 21.92182302 23.48619938 25.04588842 26.60792589 28.2730484\n",
      " 29.73351002 31.29555225]\n",
      "[ 1.44553185  2.85339594  4.26677942  5.66838741  7.07396507  8.48154068\n",
      "  9.88728523 11.29378557 12.7011919  14.10720587 15.51332951 16.91850901\n",
      " 18.32675457 19.73172188 21.13835573 22.54421473 23.9499259  25.35670996\n",
      " 26.77135468 28.1692481 ]\n"
     ]
    }
   ],
   "source": [
    "print(w_time_64)\n",
    "print(w_time_128)\n",
    "print(w_time_256)\n"
   ]
  },
  {
   "cell_type": "code",
   "execution_count": 24,
   "id": "110a90c0",
   "metadata": {},
   "outputs": [
    {
     "name": "stdout",
     "output_type": "stream",
     "text": [
      "2500000\n"
     ]
    }
   ],
   "source": [
    "bit=80*1000*1000*8\n",
    "\n",
    "\n",
    "n=2\n",
    "#for n in range(2):\n",
    "#kernel function's IP made for write from the FPGA\n",
    "if n==0:\n",
    "    overlay =Overlay(\"./design_64_wrapper.xsa\")\n",
    "    testmem_ip=overlay.kernel_0\n",
    "    datatype=64\n",
    "    w_time1_64= np.zeros(20)\n",
    "if n==1:\n",
    "    overlay =Overlay(\"./design_1_128_wrapper.xsa\")\n",
    "    testmem_ip=overlay.kernel_0\n",
    "    datatype=128\n",
    "    w_time1_128=np.zeros(20)\n",
    "if n==2:\n",
    "    overlay =Overlay(\"./design_1_256_wrapper.xsa\")\n",
    "    testmem_ip=overlay.kernel_0\n",
    "    datatype=256\n",
    "    w_time1_256=np.zeros(20)\n",
    "\n",
    "#inizialize data\n",
    "if(int(bit/datatype))>0:\n",
    "    max_data=int(bit/datatype)\n",
    "else:max_data=1\n",
    "#FPGA\n",
    "data= np.zeros(int(max_data*datatype/64))\n",
    "#data buffer creation for FPGA\n",
    "buf_data = allocate(int(max_data*datatype/64),np.uint64)\n",
    "buf_data[:]=data[:]\n",
    "buf_data.flush()\n",
    "testmem_ip.write(0x10,buf_data.physical_address)\n",
    "\n",
    "#kernel function attivation and time calculation\n",
    "#starting write time calculation\n",
    "\n",
    "#100 subtests to create an avarage time\n",
    "w_sum_64=0\n",
    "w_sum_128=0\n",
    "w_sum_256=0\n",
    "for c in range(1000):\n",
    "    data_n=max_data\n",
    "    testmem_ip.write(0x1c,data_n)\n",
    "    #start counting\n",
    "    start=time.time()\n",
    "    testmem_ip.write(0x00,1)\n",
    "    #continue until it end \n",
    "    while testmem_ip.read(0x00)& 0x04!=0x04:\n",
    "        pass\n",
    "    #finish counting\n",
    "    stop=time.time()\n",
    "    if n==0:\n",
    "        w_sum_64=w_sum_64+(stop-start)*1000\n",
    "    if n==1:\n",
    "        w_sum_128=w_sum_128+(stop-start)*1000\n",
    "    if n==2:\n",
    "        w_sum_256=w_sum_256+(stop-start)*1000\n",
    "if n==0:\n",
    "    w_time1_64=w_sum_64/1000\n",
    "if n==1:\n",
    "    w_time1_128=w_sum_128/1000\n",
    "if n==2:        \n",
    "     w_time1_256=w_sum_256/1000\n",
    "print(data_n)"
   ]
  },
  {
   "cell_type": "code",
   "execution_count": 25,
   "id": "4cf7843e",
   "metadata": {
    "scrolled": false
   },
   "outputs": [
    {
     "name": "stdout",
     "output_type": "stream",
     "text": [
      "0.06823515892028809\n",
      "125.04872465133667\n",
      "112.55620336532593\n"
     ]
    }
   ],
   "source": [
    "print( w_time1_64)\n",
    "print(w_time1_128)\n",
    "print( w_time1_256)"
   ]
  },
  {
   "cell_type": "code",
   "execution_count": null,
   "id": "8df57dfd",
   "metadata": {},
   "outputs": [],
   "source": []
  }
 ],
 "metadata": {
  "kernelspec": {
   "display_name": "Python 3 (ipykernel)",
   "language": "python",
   "name": "python3"
  },
  "language_info": {
   "codemirror_mode": {
    "name": "ipython",
    "version": 3
   },
   "file_extension": ".py",
   "mimetype": "text/x-python",
   "name": "python",
   "nbconvert_exporter": "python",
   "pygments_lexer": "ipython3",
   "version": "3.10.4"
  }
 },
 "nbformat": 4,
 "nbformat_minor": 5
}
